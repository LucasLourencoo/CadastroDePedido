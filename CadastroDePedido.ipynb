{
 "cells": [
  {
   "cell_type": "code",
   "execution_count": 4,
   "metadata": {},
   "outputs": [
    {
     "name": "stdout",
     "output_type": "stream",
     "text": [
      "========== REGISTRO FINALIZADO! ==========\n",
      "=================================================================\n",
      "  Produto   | Quantidade |   Preço Unitário   |    Preço Final     \n",
      "=================================================================\n",
      "   Prego    |      35     | R$      0,15      | \u001b[92mR$    5,25    \u001b[0m\n",
      "  Martelo   |      1      | R$     20,00      | \u001b[92mR$   20,00    \u001b[0m\n",
      " Furadeira  |      1      | R$     75,00      | \u001b[92mR$   75,00    \u001b[0m\n"
     ]
    }
   ],
   "source": [
    "searchlist = [['s', 'sim', 'desejo', 'quero'],\n",
    "              ['n', 'não', 'não quero', 'não desejo', 'nao'],\n",
    "                                                            ]\n",
    "\n",
    "\n",
    "search = input('Deseja realizar um cadastro de pedidos?')\n",
    "\n",
    "produtos = []\n",
    "qnt_produtos = []\n",
    "valores_produtos = []\n",
    "\n",
    "if search in searchlist[0]:\n",
    "     \n",
    "    while True:\n",
    "\n",
    "        produto = input('Registre um produto. Para cancelar o registro de um novo produto, basta apertar enter com a caixa vazia').strip().title()\n",
    "        if not produto:\n",
    "            break\n",
    "        qtde = int(input('Insira a quantidade que está sendo inserida de {}.'.format(produto)))\n",
    "        if not qtde:\n",
    "            break\n",
    "        valor_de = float(input('Insira o preço do produto: {}.'.format(produto)))\n",
    "        if not valor_de:\n",
    "            break\n",
    "\n",
    "        produtos.append(produto)\n",
    "        qnt_produtos.append(qtde)\n",
    "        valores_produtos.append(valor_de)\n",
    "        \n",
    "elif search in searchlist[1]:\n",
    "    print('Programa Encerrado')\n",
    "\n",
    "print('=' * 10, 'REGISTRO FINALIZADO!', '=' * 10)\n",
    "print('=' * 65)\n",
    "print('{:^12}|{:^12}|{:^20}|{:^20}'.format('Produto','Quantidade','Preço Unitário','Preço Final'))\n",
    "print('=' * 65)\n",
    "\n",
    "for l, lista in enumerate(produtos):\n",
    "    print('{:^12}|'.format(produtos[l]), '{:^12}|'.format(qnt_produtos[l]), 'R${:^16_.2f}|'.format(valores_produtos[l]).replace('.',',').replace('_','.'), '\\033[92mR${:^12_.2f}\\033[0m'.format(qnt_produtos[l] * valores_produtos[l]).replace('.',',').replace('_','.'))"
   ]
  }
 ],
 "metadata": {
  "kernelspec": {
   "display_name": "Python 3.9.7 ('base')",
   "language": "python",
   "name": "python3"
  },
  "language_info": {
   "codemirror_mode": {
    "name": "ipython",
    "version": 3
   },
   "file_extension": ".py",
   "mimetype": "text/x-python",
   "name": "python",
   "nbconvert_exporter": "python",
   "pygments_lexer": "ipython3",
   "version": "3.9.7"
  },
  "orig_nbformat": 4,
  "vscode": {
   "interpreter": {
    "hash": "665796ea3363072d3a6057ac2fdbe3c4fcb0d17a4b92295d9707f78e9c46c0af"
   }
  }
 },
 "nbformat": 4,
 "nbformat_minor": 2
}
